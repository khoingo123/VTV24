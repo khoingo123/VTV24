{
  "nbformat": 4,
  "nbformat_minor": 0,
  "metadata": {
    "colab": {
      "name": "Analyze.ipynb",
      "provenance": []
    },
    "kernelspec": {
      "name": "python3",
      "display_name": "Python 3"
    },
    "language_info": {
      "name": "python"
    }
  },
  "cells": [
    {
      "cell_type": "code",
      "metadata": {
        "id": "DUnrwt4cPNGw"
      },
      "source": [
        "# Import necessary packages\n",
        "import numpy as np\n",
        "import pandas as pd\n",
        "import time\n",
        "import seaborn as sns\n",
        "import matplotlib.pyplot as plt"
      ],
      "execution_count": 1,
      "outputs": []
    },
    {
      "cell_type": "code",
      "metadata": {
        "colab": {
          "base_uri": "https://localhost:8080/",
          "height": 289
        },
        "id": "9hs2NuxcAO2W",
        "outputId": "cebcc3d8-5fed-4c97-ec63-c0df8040a735"
      },
      "source": [
        "df = pd.read_csv('VTV4.csv')\n",
        "df.head()"
      ],
      "execution_count": 8,
      "outputs": [
        {
          "output_type": "execute_result",
          "data": {
            "text/html": [
              "<div>\n",
              "<style scoped>\n",
              "    .dataframe tbody tr th:only-of-type {\n",
              "        vertical-align: middle;\n",
              "    }\n",
              "\n",
              "    .dataframe tbody tr th {\n",
              "        vertical-align: top;\n",
              "    }\n",
              "\n",
              "    .dataframe thead th {\n",
              "        text-align: right;\n",
              "    }\n",
              "</style>\n",
              "<table border=\"1\" class=\"dataframe\">\n",
              "  <thead>\n",
              "    <tr style=\"text-align: right;\">\n",
              "      <th></th>\n",
              "      <th>Likes</th>\n",
              "      <th>Dislikes</th>\n",
              "      <th>Views</th>\n",
              "      <th>Comments</th>\n",
              "      <th>Title</th>\n",
              "      <th>Category_id</th>\n",
              "      <th>Date</th>\n",
              "      <th>Tags</th>\n",
              "    </tr>\n",
              "  </thead>\n",
              "  <tbody>\n",
              "    <tr>\n",
              "      <th>0</th>\n",
              "      <td>0</td>\n",
              "      <td>0</td>\n",
              "      <td>14</td>\n",
              "      <td>0</td>\n",
              "      <td>VTV News 8h - 30/08/2021| VTV4</td>\n",
              "      <td>People &amp; Blogs</td>\n",
              "      <td>2021-08-30T03:20:31Z</td>\n",
              "      <td>['vietnam', 'vtv', 'vtv4', 'travel', 'Việt Nam']</td>\n",
              "    </tr>\n",
              "    <tr>\n",
              "      <th>1</th>\n",
              "      <td>28</td>\n",
              "      <td>3</td>\n",
              "      <td>7027</td>\n",
              "      <td>1</td>\n",
              "      <td>Bản tin thời sự tiếng Việt 21h - 29/08/2021| VTV4</td>\n",
              "      <td>People &amp; Blogs</td>\n",
              "      <td>2021-08-29T14:59:11Z</td>\n",
              "      <td>['vietnam', 'vtv', 'vtv4', 'travel', 'Việt Nam']</td>\n",
              "    </tr>\n",
              "    <tr>\n",
              "      <th>2</th>\n",
              "      <td>10</td>\n",
              "      <td>2</td>\n",
              "      <td>1102</td>\n",
              "      <td>0</td>\n",
              "      <td>Tình nguyện viên Việt Nam tại Thế vận hội |202...</td>\n",
              "      <td>People &amp; Blogs</td>\n",
              "      <td>2021-08-29T12:31:24Z</td>\n",
              "      <td>['vietnam', 'vtv', 'vtv4', 'travel', 'Việt Nam']</td>\n",
              "    </tr>\n",
              "    <tr>\n",
              "      <th>3</th>\n",
              "      <td>20</td>\n",
              "      <td>3</td>\n",
              "      <td>914</td>\n",
              "      <td>0</td>\n",
              "      <td>Đường dây nóng kết nối tình quân dân | VTV4</td>\n",
              "      <td>People &amp; Blogs</td>\n",
              "      <td>2021-08-29T11:26:59Z</td>\n",
              "      <td>['vietnam', 'vtv', 'vtv4', 'travel', 'Việt Nam']</td>\n",
              "    </tr>\n",
              "    <tr>\n",
              "      <th>4</th>\n",
              "      <td>0</td>\n",
              "      <td>0</td>\n",
              "      <td>2520</td>\n",
              "      <td>0</td>\n",
              "      <td>Chàng trai Ucraina và tình yêu với thanh âm củ...</td>\n",
              "      <td>People &amp; Blogs</td>\n",
              "      <td>2021-08-29T09:56:57Z</td>\n",
              "      <td>['vietnam', 'vtv', 'vtv4', 'travel', 'Việt Nam']</td>\n",
              "    </tr>\n",
              "  </tbody>\n",
              "</table>\n",
              "</div>"
            ],
            "text/plain": [
              "   Likes  ...                                              Tags\n",
              "0      0  ...  ['vietnam', 'vtv', 'vtv4', 'travel', 'Việt Nam']\n",
              "1     28  ...  ['vietnam', 'vtv', 'vtv4', 'travel', 'Việt Nam']\n",
              "2     10  ...  ['vietnam', 'vtv', 'vtv4', 'travel', 'Việt Nam']\n",
              "3     20  ...  ['vietnam', 'vtv', 'vtv4', 'travel', 'Việt Nam']\n",
              "4      0  ...  ['vietnam', 'vtv', 'vtv4', 'travel', 'Việt Nam']\n",
              "\n",
              "[5 rows x 8 columns]"
            ]
          },
          "metadata": {},
          "execution_count": 8
        }
      ]
    },
    {
      "cell_type": "code",
      "metadata": {
        "id": "Z5Eye-dpAZL6"
      },
      "source": [
        "# Drop N/A values\n",
        "#df.dropna(inplace=True)"
      ],
      "execution_count": 4,
      "outputs": []
    },
    {
      "cell_type": "code",
      "metadata": {
        "id": "SvRaYj3sA6qm"
      },
      "source": [
        "# Clean Tags column\n",
        "#import ast\n",
        "#df['Tags'] = df['Tags'].apply(lambda x: ast.literal_eval(x))"
      ],
      "execution_count": 9,
      "outputs": []
    },
    {
      "cell_type": "code",
      "metadata": {
        "id": "OY8e5zipBesS"
      },
      "source": [
        "# Clean Date column\n",
        "from dateutil import parser\n",
        "df['Date'] = df['Date'].apply(lambda x: parser.parse(x[:10]))"
      ],
      "execution_count": 10,
      "outputs": []
    },
    {
      "cell_type": "code",
      "metadata": {
        "id": "rA72-F2nDO4u"
      },
      "source": [
        "# Create some columns\n",
        "df['Favorite'] = df['Likes'] / (df['Likes'] + df['Dislikes'])\n",
        "df['Hate'] = df['Dislikes'] / (df['Likes'] + df['Dislikes'])\n",
        "df['Dislike_ratio'] = df['Dislikes']/df['Views']"
      ],
      "execution_count": 11,
      "outputs": []
    },
    {
      "cell_type": "code",
      "metadata": {
        "id": "NhGb28UPN6eW"
      },
      "source": [
        "# Standardize Hate and Dislike ratio and combine together\n",
        "df['Dislike_index'] = (df['Hate'] - df['Hate'].mean())/df['Hate'].std() + (\n",
        "                      df['Dislike_ratio'] - df['Dislike_ratio'].mean())/df['Dislike_ratio'].std()"
      ],
      "execution_count": 12,
      "outputs": []
    },
    {
      "cell_type": "code",
      "metadata": {
        "id": "DUsvohqNxUOH",
        "colab": {
          "base_uri": "https://localhost:8080/",
          "height": 1000
        },
        "outputId": "d4df1a49-d507-43bd-e654-d8c29ac9e94d"
      },
      "source": [
        "res = df[df['Views'] > 20000].sort_values(by=['Dislike_index'], ascending=False).head(10)\n",
        "res"
      ],
      "execution_count": 13,
      "outputs": [
        {
          "output_type": "execute_result",
          "data": {
            "text/html": [
              "<div>\n",
              "<style scoped>\n",
              "    .dataframe tbody tr th:only-of-type {\n",
              "        vertical-align: middle;\n",
              "    }\n",
              "\n",
              "    .dataframe tbody tr th {\n",
              "        vertical-align: top;\n",
              "    }\n",
              "\n",
              "    .dataframe thead th {\n",
              "        text-align: right;\n",
              "    }\n",
              "</style>\n",
              "<table border=\"1\" class=\"dataframe\">\n",
              "  <thead>\n",
              "    <tr style=\"text-align: right;\">\n",
              "      <th></th>\n",
              "      <th>Likes</th>\n",
              "      <th>Dislikes</th>\n",
              "      <th>Views</th>\n",
              "      <th>Comments</th>\n",
              "      <th>Title</th>\n",
              "      <th>Category_id</th>\n",
              "      <th>Date</th>\n",
              "      <th>Tags</th>\n",
              "      <th>Favorite</th>\n",
              "      <th>Hate</th>\n",
              "      <th>Dislike_ratio</th>\n",
              "      <th>Dislike_index</th>\n",
              "    </tr>\n",
              "  </thead>\n",
              "  <tbody>\n",
              "    <tr>\n",
              "      <th>1026</th>\n",
              "      <td>731</td>\n",
              "      <td>1290</td>\n",
              "      <td>78831</td>\n",
              "      <td>271</td>\n",
              "      <td>Nghĩa vụ quân sự - Môi trường rèn luyện thể ch...</td>\n",
              "      <td>People &amp; Blogs</td>\n",
              "      <td>2021-06-30</td>\n",
              "      <td>['vietnam', 'vtv', 'vtv4', 'travel', 'Việt Nam']</td>\n",
              "      <td>0.361702</td>\n",
              "      <td>0.638298</td>\n",
              "      <td>0.016364</td>\n",
              "      <td>19.359025</td>\n",
              "    </tr>\n",
              "    <tr>\n",
              "      <th>429</th>\n",
              "      <td>695</td>\n",
              "      <td>1007</td>\n",
              "      <td>157237</td>\n",
              "      <td>12</td>\n",
              "      <td>Góp phần tạo miễn dịch cộng đồng bằng vắc xin ...</td>\n",
              "      <td>People &amp; Blogs</td>\n",
              "      <td>2021-08-03</td>\n",
              "      <td>['vietnam', 'vtv', 'vtv4', 'travel', 'Việt Nam']</td>\n",
              "      <td>0.408343</td>\n",
              "      <td>0.591657</td>\n",
              "      <td>0.006404</td>\n",
              "      <td>10.131841</td>\n",
              "    </tr>\n",
              "    <tr>\n",
              "      <th>119</th>\n",
              "      <td>2838</td>\n",
              "      <td>1397</td>\n",
              "      <td>398759</td>\n",
              "      <td>103</td>\n",
              "      <td>Lợi dụng báo chí cộng đồng để chống phá Việt N...</td>\n",
              "      <td>People &amp; Blogs</td>\n",
              "      <td>2021-08-22</td>\n",
              "      <td>['vietnam', 'vtv', 'vtv4', 'travel', 'Việt Nam']</td>\n",
              "      <td>0.670130</td>\n",
              "      <td>0.329870</td>\n",
              "      <td>0.003503</td>\n",
              "      <td>5.059147</td>\n",
              "    </tr>\n",
              "    <tr>\n",
              "      <th>570</th>\n",
              "      <td>101</td>\n",
              "      <td>78</td>\n",
              "      <td>44783</td>\n",
              "      <td>21</td>\n",
              "      <td>Lễ tuyên thệ của Thủ tướng Chính phủ Phạm Minh...</td>\n",
              "      <td>People &amp; Blogs</td>\n",
              "      <td>2021-07-26</td>\n",
              "      <td>['vietnam', 'vtv', 'vtv4', 'travel', 'Việt Nam']</td>\n",
              "      <td>0.564246</td>\n",
              "      <td>0.435754</td>\n",
              "      <td>0.001742</td>\n",
              "      <td>4.523858</td>\n",
              "    </tr>\n",
              "    <tr>\n",
              "      <th>264</th>\n",
              "      <td>114</td>\n",
              "      <td>81</td>\n",
              "      <td>44337</td>\n",
              "      <td>1</td>\n",
              "      <td>Tổng bí thư Nguyễn Phú Trọng dự phiên họp đầu ...</td>\n",
              "      <td>People &amp; Blogs</td>\n",
              "      <td>2021-08-11</td>\n",
              "      <td>['vietnam', 'vtv', 'vtv4', 'travel', 'Việt Nam']</td>\n",
              "      <td>0.584615</td>\n",
              "      <td>0.415385</td>\n",
              "      <td>0.001827</td>\n",
              "      <td>4.403201</td>\n",
              "    </tr>\n",
              "    <tr>\n",
              "      <th>99</th>\n",
              "      <td>179</td>\n",
              "      <td>55</td>\n",
              "      <td>22100</td>\n",
              "      <td>37</td>\n",
              "      <td>Phimmoi.net và chữ Z “bất diệt” | VTV4</td>\n",
              "      <td>People &amp; Blogs</td>\n",
              "      <td>2021-08-23</td>\n",
              "      <td>['vietnam', 'vtv', 'vtv4', 'travel', 'Việt Nam...</td>\n",
              "      <td>0.764957</td>\n",
              "      <td>0.235043</td>\n",
              "      <td>0.002489</td>\n",
              "      <td>3.253517</td>\n",
              "    </tr>\n",
              "    <tr>\n",
              "      <th>6930</th>\n",
              "      <td>204</td>\n",
              "      <td>71</td>\n",
              "      <td>34715</td>\n",
              "      <td>6</td>\n",
              "      <td>Trực tiếp: Bản tin chào năm mới 2020</td>\n",
              "      <td>People &amp; Blogs</td>\n",
              "      <td>2019-12-31</td>\n",
              "      <td>NaN</td>\n",
              "      <td>0.741818</td>\n",
              "      <td>0.258182</td>\n",
              "      <td>0.002045</td>\n",
              "      <td>3.084985</td>\n",
              "    </tr>\n",
              "    <tr>\n",
              "      <th>658</th>\n",
              "      <td>1537</td>\n",
              "      <td>374</td>\n",
              "      <td>145350</td>\n",
              "      <td>260</td>\n",
              "      <td>Đối diện: Phản bác thông tin xuyên tạc về con ...</td>\n",
              "      <td>People &amp; Blogs</td>\n",
              "      <td>2021-07-22</td>\n",
              "      <td>['vietnam', 'vtv', 'vtv4', 'travel', 'Việt Nam']</td>\n",
              "      <td>0.804291</td>\n",
              "      <td>0.195709</td>\n",
              "      <td>0.002573</td>\n",
              "      <td>2.949943</td>\n",
              "    </tr>\n",
              "    <tr>\n",
              "      <th>3392</th>\n",
              "      <td>82</td>\n",
              "      <td>36</td>\n",
              "      <td>27958</td>\n",
              "      <td>3</td>\n",
              "      <td>75 năm cuộc Tổng tuyển cử đầu tiên | VTV4</td>\n",
              "      <td>People &amp; Blogs</td>\n",
              "      <td>2021-01-06</td>\n",
              "      <td>NaN</td>\n",
              "      <td>0.694915</td>\n",
              "      <td>0.305085</td>\n",
              "      <td>0.001288</td>\n",
              "      <td>2.867935</td>\n",
              "    </tr>\n",
              "    <tr>\n",
              "      <th>2178</th>\n",
              "      <td>24</td>\n",
              "      <td>14</td>\n",
              "      <td>24626</td>\n",
              "      <td>4</td>\n",
              "      <td>Bộ Y tế sẽ thu hồi vắc xin nếu địa phương nào ...</td>\n",
              "      <td>People &amp; Blogs</td>\n",
              "      <td>2021-04-17</td>\n",
              "      <td>['vietnam', 'vtv', 'vtv4', 'travel']</td>\n",
              "      <td>0.631579</td>\n",
              "      <td>0.368421</td>\n",
              "      <td>0.000569</td>\n",
              "      <td>2.842684</td>\n",
              "    </tr>\n",
              "  </tbody>\n",
              "</table>\n",
              "</div>"
            ],
            "text/plain": [
              "      Likes  Dislikes   Views  ...      Hate Dislike_ratio Dislike_index\n",
              "1026    731      1290   78831  ...  0.638298      0.016364     19.359025\n",
              "429     695      1007  157237  ...  0.591657      0.006404     10.131841\n",
              "119    2838      1397  398759  ...  0.329870      0.003503      5.059147\n",
              "570     101        78   44783  ...  0.435754      0.001742      4.523858\n",
              "264     114        81   44337  ...  0.415385      0.001827      4.403201\n",
              "99      179        55   22100  ...  0.235043      0.002489      3.253517\n",
              "6930    204        71   34715  ...  0.258182      0.002045      3.084985\n",
              "658    1537       374  145350  ...  0.195709      0.002573      2.949943\n",
              "3392     82        36   27958  ...  0.305085      0.001288      2.867935\n",
              "2178     24        14   24626  ...  0.368421      0.000569      2.842684\n",
              "\n",
              "[10 rows x 12 columns]"
            ]
          },
          "metadata": {},
          "execution_count": 13
        }
      ]
    },
    {
      "cell_type": "code",
      "metadata": {
        "id": "OeZo7qN7Hc_y",
        "colab": {
          "base_uri": "https://localhost:8080/",
          "height": 414
        },
        "outputId": "f3518280-302f-47c3-955b-f08a41db7ac3"
      },
      "source": [
        "plt.figure(figsize=(10, 7))\n",
        "sns.barplot(y='Title', x='Dislike_index', data=res)\n",
        "plt.ylabel('')\n",
        "plt.xlabel('Dislike Index')"
      ],
      "execution_count": 14,
      "outputs": [
        {
          "output_type": "execute_result",
          "data": {
            "text/plain": [
              "Text(0.5, 0, 'Dislike Index')"
            ]
          },
          "metadata": {},
          "execution_count": 14
        },
        {
          "output_type": "display_data",
          "data": {
            "image/png": "[encoded data removed]",
            "text/plain": [
              "<Figure size 720x504 with 1 Axes>"
            ]
          },
          "metadata": {
            "needs_background": "light"
          }
        }
      ]
    },
    {
      "cell_type": "code",
      "metadata": {
        "id": "H5Da-7tAiGvO"
      },
      "source": [
        ""
      ],
      "execution_count": null,
      "outputs": []
    }
  ]
}